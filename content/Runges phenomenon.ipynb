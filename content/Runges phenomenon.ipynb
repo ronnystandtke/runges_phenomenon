{
  "metadata": {
    "kernelspec": {
      "name": "python",
      "display_name": "Python (Pyodide)",
      "language": "python"
    },
    "language_info": {
      "codemirror_mode": {
        "name": "python",
        "version": 3
      },
      "file_extension": ".py",
      "mimetype": "text/x-python",
      "name": "python",
      "nbconvert_exporter": "python",
      "pygments_lexer": "ipython3",
      "version": "3.8"
    }
  },
  "nbformat_minor": 4,
  "nbformat": 4,
  "cells": [
    {
      "cell_type": "markdown",
      "source": "### Use the menu entry \"Run &rarr; Run All Cells\" to start this notebook.",
      "metadata": {}
    },
    {
      "cell_type": "code",
      "source": "%pip install -q markdown ipywidgets==8.0.5 ipympl\n\nimport markdown, traceback, gettext\nimport numpy as np\nimport matplotlib.pyplot as plt\nfrom matplotlib.lines import Line2D\nfrom matplotlib.artist import Artist\nfrom IPython.display import HTML\nfrom ipywidgets import AppLayout, Layout\nimport ipywidgets as widgets\n\ngettext.bindtextdomain('rungesphenomenon', 'translations')\ngettext.textdomain('rungesphenomenon')\n_ = gettext.gettext\n\nout = widgets.Output()\nmathFormulaOutput = widgets.Output()\n\n# für interaktive matplotlib-Widgets in Jupyter notwendig:\n# pip install ipympl\n%matplotlib widget\n\n# Example 1: (Square function)\nexample1_x = np.linspace(-2, 2, 150)\nexample1_y = example1_x**2\n\n# Example 2: (Runge function)\nexample2_x = np.linspace(-2, 2, 150)\nexample2_y = 1 / (1 + 25*example2_x**2)",
      "metadata": {
        "tags": [],
        "jupyter": {
          "source_hidden": true
        },
        "trusted": true
      },
      "execution_count": null,
      "outputs": []
    },
    {
      "cell_type": "code",
      "source": "class Interpolator:\n    \n    # max pixel distance to count as a vertex hit\n    maxDistance = 15\n    \n    # the last observed toolbar mode\n    lastToolBarMode = \"\"\n    \n    example1Plot = None\n    example2Plot = None\n    interpolatePlot = None\n    \n    title = _('Click to add points, tap \"d\" to delete them')\n    \n    def __init__(self, ax, line):\n        if line.figure is None:\n            raise RuntimeError('You must first add the polygon to a figure '\n                               'or canvas before defining the interactor')\n        self.ax = ax\n        self.ax.set_title(self.title)\n        \n        self.line = line\n        \n        canvas = line.figure.canvas\n        canvas.mpl_connect('draw_event', self.on_draw)\n        canvas.mpl_connect('button_press_event', self.on_button_press)\n        canvas.mpl_connect('key_press_event', self.on_key_press)\n        self.canvas = canvas\n        \n    def get_index_under_point(self, event):\n        \"\"\"\n        Return the index of the point closest to the event position or *None*\n        if no point is within ``self.maxDistance`` to the event position.\n        \"\"\"\n            \n        # convert data to pixel dimensions\n        xData = []\n        xData.extend(self.line.get_xdata())\n        \n        if len(xData) == 0:\n            # line is empty, nothing to delete...\n            return None\n        \n        yData = []\n        yData.extend(self.line.get_ydata())\n        zippedList = list(zip(xData, yData))\n        pixelData = ax.transData.transform(zippedList)\n\n        # calculate distance to every point of the line\n        xValues = np.asarray(pixelData[:, 0])\n        yValues = np.asarray(pixelData[:, 1])\n        distances = np.hypot(xValues - event.x, yValues - event.y)\n\n        # return index of shortest distance (if valid)\n        index = np.argmin(distances)\n        if distances[index] > self.maxDistance:\n            return None\n        return index\n    \n    def add_point(self, event):\n        if event.xdata == None or event.ydata == None:\n            return\n\n        # append new point to line\n        newXdata = []\n        newXdata.extend(self.line.get_xdata())\n        newXdata.append(event.xdata)\n        newYdata = []\n        newYdata.extend(self.line.get_ydata())\n        newYdata.append(event.ydata)\n\n        # sort points by x-value\n        zippedList = list(zip(newXdata, newYdata))        \n        sortedList = sorted(zippedList, key = lambda x: x[0])\n\n        # set new data\n        newXdata, newYdata = list(zip(*sortedList))\n        self.line.set_data(newXdata, newYdata)\n\n        self.interpolate()\n\n        if self.line.stale:\n            self.canvas.draw_idle()        \n    \n    def on_draw(self, event):\n        self.background = self.canvas.copy_from_bbox(self.ax.bbox)\n        self.ax.draw_artist(self.line)\n        \n    def on_button_press(self, event):\n        # only add points if no toolbar mode (e.g. \"zoom rect\" or \"pan/zoom\") is active\n        toolBarMode = plt.get_current_fig_manager().toolbar.mode\n\n        # if we have been in \"zoom rect\" or \"pan/zoom\" mode we have to click the figure again\n        # to get the keyboard focus, don't add a point in this case\n        if toolBarMode == '' and self.lastToolBarMode == '':\n                self.add_point(event)\n\n        self.lastToolBarMode = toolBarMode\n\n    @out.capture(clear_output=True)\n    def on_key_press(self, event):\n        try:\n            if not event.inaxes:\n                return\n\n            elif event.key == 'd':\n                index = self.get_index_under_point(event)\n                if index is not None:\n                    # remove point from line\n                    newXdata = []\n                    newXdata.extend(self.line.get_xdata())\n                    del newXdata[index]\n                    newYdata = []\n                    newYdata.extend(self.line.get_ydata())\n                    del newYdata[index]\n                    self.line.set_data(newXdata, newYdata)\n\n                self.interpolate()\n\n            if self.line.stale:\n                self.canvas.draw_idle()\n        except:\n            traceback.print_exc()\n            \n    def interpolate(self):\n        xData = self.line.get_xdata()\n        \n        if len(xData) == 0:\n            plot_x = []\n            plot_y = []\n        else:\n            # polynomial interpolation\n            vanderMondeMatrix = np.vander(xData, len(xData))\n            yData = self.line.get_ydata()\n            coefficients = np.linalg.solve(vanderMondeMatrix, yData)\n            polynomial = np.poly1d(coefficients)\n            plot_x = np.linspace(xData[0], xData[-1], 150)\n            plot_y = polynomial(plot_x)\n            \n            # output math formula\n            coefficients = list(reversed(polynomial.coefficients))\n            markdownString = \"\"\n            order = 0\n            for i in range(0, len(coefficients)):\n                coefficient = coefficients[i]\n                if i == 0:\n                    markdownString = \"{:.4f}\".format(coefficient)\n                else:\n                    newTerm = \"{:.4f}\".format(coefficient) + \"x\"\n                    if order != 1:\n                        newTerm += \"^{\" + str(order) + \"}\"\n                    if coefficients[i - 1] > 0:\n                        newTerm += \"+ \"\n                    markdownString = newTerm + markdownString\n                order += 1            \n            mathFormulaOutput.append_display_data(HTML(markdown.markdown(\"$\" + markdownString + \"$\")))\n\n        # update plot\n        if self.interpolatePlot != None:\n            self.interpolatePlot.pop(0).remove()\n        self.interpolatePlot = self.ax.plot(plot_x, plot_y, color='red')\n        \n    @out.capture(clear_output=True)\n    def addExample1(self):\n        try:\n            if self.example1Plot != None and len(self.example1Plot) > 0:\n                self.example1Plot.pop(0).remove()\n            self.example1Plot = self.ax.plot(example1_x, example1_y, color='green')\n            self.canvas.draw_idle()\n        except:\n            traceback.print_exc()\n\n    @out.capture(clear_output=True)\n    def addExample2(self):\n        try:\n            if self.example2Plot != None and len(self.example2Plot) > 0:\n                self.example2Plot.pop(0).remove()\n            self.example2Plot = self.ax.plot(example2_x, example2_y, color='blue')\n            self.canvas.draw_idle()\n        except:\n            traceback.print_exc()\n            \n    @out.capture(clear_output=True)\n    def restart(self):\n        try:\n            self.line.set_data([], [])\n            if self.interpolatePlot != None:\n                self.interpolatePlot.pop(0).remove()\n            if self.example1Plot != None and len(self.example1Plot) > 0:\n                self.example1Plot.pop(0).remove()\n            if self.example2Plot != None and len(self.example2Plot) > 0:\n                self.example2Plot.pop(0).remove()\n            self.interpolatePlot = self.ax.plot([], [])\n            self.canvas.draw_idle()\n            mathFormulaOutput.clear_output()\n        except:\n            traceback.print_exc()\n\ndef example1_button_clicked(b):\n    interpolator.addExample1()\n\ndef example2_button_clicked(b):\n    interpolator.addExample2()\n\ndef restart_button_clicked(b):\n    interpolator.restart()\n            \ndef clean_button_clicked(b):\n    mathFormulaOutput.clear_output()\n        \nif __name__ == '__main__':\n    \n    xValues = []\n    yValues = []\n    \n    line = Line2D(xValues, yValues, marker='o', markerfacecolor='red', linestyle='None', animated=True)\n\n    with out:\n        plt.ioff() # turn off interactive mode so figure doesn't show\n        fig, ax = plt.subplots()\n        plt.ion() # figure still doesn't show\n    ax.add_line(line)\n    global interpolator\n    interpolator = Interpolator(ax, line)\n\n    ax.set_xlim((-2, 2))\n    ax.set_ylim((-1, 1.5))\n        \n    out.clear_output()\n    mathFormulaOutput.clear_output()\n    \n    headerOutput = widgets.Output()\n    with headerOutput:\n        display(HTML(_('<h1>Runge&apos;s phenomenon</h1> \\\n            Runge&apos;s phenomenon shows the problem that going to higher degrees does not always improve accuracy in polynomial interpolation.<br> \\\n            See &rarr; <a href=\"https://en.wikipedia.org/wiki/Runge%27s_phenomenon\" target=\"_blank\">this Wikipedia article</a> &larr; for more details.<br><hr>')))\n    headerOutput.layout = Layout(margin='0 0 20px 0')\n    \n    addExample1Button = widgets.Button(description=_(\"Add Quadratic Function\"))\n    addExample1Button.on_click(example1_button_clicked)\n\n    addExample2Button = widgets.Button(description=_(\"Add Runge Function\"))\n    addExample2Button.on_click(example2_button_clicked)\n    \n    restartButton = widgets.Button(description=_(\"Restart\"))\n    restartButton.on_click(restart_button_clicked)\n\n    addExample1Button.layout = Layout(flex='0 0 auto', width=\"fit-content\")\n    addExample2Button.layout = Layout(flex='0 0 auto', width=\"fit-content\")\n    restartButton.layout = Layout(flex='0 0 auto', width=\"fit-content\")\n    buttonHBox = widgets.HBox([addExample1Button, addExample2Button, restartButton])\n    \n    leftVBox = widgets.VBox([buttonHBox, fig.canvas])\n    leftVBox.layout = Layout(flex='0 0 auto', width='fit-content')\n\n    cleanButton = widgets.Button(description=_(\"Clear output\"))\n    cleanButton.on_click(clean_button_clicked)\n    \n    cleanButton.layout = Layout(flex='0 0 auto', width=\"fit-content\")\n    mathFormulaOutput.layout = Layout(border = \"1px solid black\")\n    \n    rightVBox = widgets.VBox([cleanButton, mathFormulaOutput])\n    rightVBox.layout = Layout(flex='1 1 auto', width='fit-content')\n    \n    appHBox = widgets.HBox([leftVBox, rightVBox])\n    \n    display(widgets.VBox([headerOutput, appHBox]))",
      "metadata": {
        "jupyter": {
          "source_hidden": true
        },
        "tags": [],
        "trusted": true
      },
      "execution_count": null,
      "outputs": []
    },
    {
      "cell_type": "code",
      "source": "out",
      "metadata": {
        "jupyter": {
          "source_hidden": true
        },
        "tags": [],
        "trusted": true
      },
      "execution_count": null,
      "outputs": []
    }
  ]
}